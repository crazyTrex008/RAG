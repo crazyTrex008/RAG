{
 "cells": [
  {
   "cell_type": "code",
   "execution_count": 148,
   "id": "168b5b33-e84b-42d6-9ff3-d5a1d9b2440d",
   "metadata": {},
   "outputs": [],
   "source": [
    "import pandas as pd\n",
    "import numpy as np\n",
    "from sklearn.preprocessing import LabelEncoder\n",
    "from sklearn.preprocessing import StandardScaler\n",
    "import sqlite3"
   ]
  },
  {
   "cell_type": "code",
   "execution_count": 149,
   "id": "a0bae193-bccb-4071-aa70-4d631d05ab64",
   "metadata": {},
   "outputs": [],
   "source": [
    "df = pd.read_csv(\"hotel_bookings.csv\")"
   ]
  },
  {
   "cell_type": "code",
   "execution_count": 150,
   "id": "e29b9d87-6dd6-4119-ad5a-806f1e080111",
   "metadata": {},
   "outputs": [
    {
     "name": "stdout",
     "output_type": "stream",
     "text": [
      "<class 'pandas.core.frame.DataFrame'>\n",
      "RangeIndex: 119390 entries, 0 to 119389\n",
      "Data columns (total 32 columns):\n",
      " #   Column                          Non-Null Count   Dtype  \n",
      "---  ------                          --------------   -----  \n",
      " 0   hotel                           119390 non-null  object \n",
      " 1   is_canceled                     119390 non-null  int64  \n",
      " 2   lead_time                       119390 non-null  int64  \n",
      " 3   arrival_date_year               119390 non-null  int64  \n",
      " 4   arrival_date_month              119390 non-null  object \n",
      " 5   arrival_date_week_number        119390 non-null  int64  \n",
      " 6   arrival_date_day_of_month       119390 non-null  int64  \n",
      " 7   stays_in_weekend_nights         119390 non-null  int64  \n",
      " 8   stays_in_week_nights            119390 non-null  int64  \n",
      " 9   adults                          119390 non-null  int64  \n",
      " 10  children                        119386 non-null  float64\n",
      " 11  babies                          119390 non-null  int64  \n",
      " 12  meal                            119390 non-null  object \n",
      " 13  country                         118902 non-null  object \n",
      " 14  market_segment                  119390 non-null  object \n",
      " 15  distribution_channel            119390 non-null  object \n",
      " 16  is_repeated_guest               119390 non-null  int64  \n",
      " 17  previous_cancellations          119390 non-null  int64  \n",
      " 18  previous_bookings_not_canceled  119390 non-null  int64  \n",
      " 19  reserved_room_type              119390 non-null  object \n",
      " 20  assigned_room_type              119390 non-null  object \n",
      " 21  booking_changes                 119390 non-null  int64  \n",
      " 22  deposit_type                    119390 non-null  object \n",
      " 23  agent                           103050 non-null  float64\n",
      " 24  company                         6797 non-null    float64\n",
      " 25  days_in_waiting_list            119390 non-null  int64  \n",
      " 26  customer_type                   119390 non-null  object \n",
      " 27  adr                             119390 non-null  float64\n",
      " 28  required_car_parking_spaces     119390 non-null  int64  \n",
      " 29  total_of_special_requests       119390 non-null  int64  \n",
      " 30  reservation_status              119390 non-null  object \n",
      " 31  reservation_status_date         119390 non-null  object \n",
      "dtypes: float64(4), int64(16), object(12)\n",
      "memory usage: 29.1+ MB\n",
      "None\n"
     ]
    }
   ],
   "source": [
    "#determine the dataset\n",
    "print(df.info())"
   ]
  },
  {
   "cell_type": "code",
   "execution_count": 151,
   "id": "c50d8226-aa58-441f-b3bc-027007cf3d38",
   "metadata": {},
   "outputs": [
    {
     "name": "stdout",
     "output_type": "stream",
     "text": [
      "hotel                                  0\n",
      "is_canceled                            0\n",
      "lead_time                              0\n",
      "arrival_date_year                      0\n",
      "arrival_date_month                     0\n",
      "arrival_date_week_number               0\n",
      "arrival_date_day_of_month              0\n",
      "stays_in_weekend_nights                0\n",
      "stays_in_week_nights                   0\n",
      "adults                                 0\n",
      "children                               4\n",
      "babies                                 0\n",
      "meal                                   0\n",
      "country                              488\n",
      "market_segment                         0\n",
      "distribution_channel                   0\n",
      "is_repeated_guest                      0\n",
      "previous_cancellations                 0\n",
      "previous_bookings_not_canceled         0\n",
      "reserved_room_type                     0\n",
      "assigned_room_type                     0\n",
      "booking_changes                        0\n",
      "deposit_type                           0\n",
      "agent                              16340\n",
      "company                           112593\n",
      "days_in_waiting_list                   0\n",
      "customer_type                          0\n",
      "adr                                    0\n",
      "required_car_parking_spaces            0\n",
      "total_of_special_requests              0\n",
      "reservation_status                     0\n",
      "reservation_status_date                0\n",
      "dtype: int64\n"
     ]
    }
   ],
   "source": [
    "#identifying null values\n",
    "print(df.isnull().sum())"
   ]
  },
  {
   "cell_type": "code",
   "execution_count": 152,
   "id": "5d060ec0-764e-4e02-95aa-45aa3a8a89d7",
   "metadata": {},
   "outputs": [
    {
     "name": "stdout",
     "output_type": "stream",
     "text": [
      "object\n",
      "float64\n",
      "float64\n"
     ]
    }
   ],
   "source": [
    "print(df[\"country\"].dtype)\n",
    "print(df[\"agent\"].dtype)\n",
    "print(df[\"company\"].dtype)"
   ]
  },
  {
   "cell_type": "code",
   "execution_count": 153,
   "id": "809600dc-c999-458b-8de1-217a11465e43",
   "metadata": {},
   "outputs": [
    {
     "name": "stdout",
     "output_type": "stream",
     "text": [
      "0\n",
      "0\n",
      "0\n"
     ]
    }
   ],
   "source": [
    "#filling the null values\n",
    "df['country'] = df['country'].fillna(df['country'].mode()[0])\n",
    "df['agent'] = df['agent'].fillna(df['agent'].median())\n",
    "df['company'] = df['company'].fillna(df['company'].median())\n",
    "print(df['country'].isnull().sum())\n",
    "print(df['agent'].isnull().sum())\n",
    "print(df['company'].isnull().sum())"
   ]
  },
  {
   "cell_type": "code",
   "execution_count": 154,
   "id": "65004abf-01c6-4ef3-8b5b-92af8b448623",
   "metadata": {},
   "outputs": [],
   "source": [
    "# convert the date & time features \n",
    "df[\"reservation_status_date\"] = pd.to_datetime(df[\"reservation_status_date\"], format=\"%d-%m-%y\")\n",
    "df[\"year\"] = df[\"reservation_status_date\"].dt.year\n",
    "df[\"month\"] = df[\"reservation_status_date\"].dt.month\n",
    "df[\"day\"] = df[\"reservation_status_date\"].dt.day"
   ]
  },
  {
   "cell_type": "code",
   "execution_count": 155,
   "id": "08bf3d8d-7b6d-4896-9e38-cdc0e68c9a6a",
   "metadata": {},
   "outputs": [],
   "source": [
    "scaler = StandardScaler()"
   ]
  },
  {
   "cell_type": "code",
   "execution_count": 156,
   "id": "51a8454d-56be-4351-8b5d-0ce6a85e164f",
   "metadata": {},
   "outputs": [],
   "source": [
    "df[\"total_nights\"] = df[\"stays_in_week_nights\"].astype(int)+df[\"stays_in_weekend_nights\"].astype(int)\n",
    "df[\"weekend_stay_ratio\"] = df[\"stays_in_weekend_nights\"]/(df[\"total_nights\"] + 1e-5)\n",
    "df[\"adr_scaled\"]=scaler.fit_transform(df[[\"adr\"]])"
   ]
  },
  {
   "cell_type": "code",
   "execution_count": 157,
   "id": "323edb0c-6dec-4d96-8bf1-570632fc4cef",
   "metadata": {},
   "outputs": [],
   "source": [
    "df.to_csv(\"cleaned_hotel_bookings.csv\",index=False)"
   ]
  },
  {
   "cell_type": "code",
   "execution_count": 158,
   "id": "6ae436e9-87b7-48b1-abd5-18afeb6ce88f",
   "metadata": {},
   "outputs": [],
   "source": [
    "connection = sqlite3.connect(\"hotel_bookings.db\")\n",
    "df.to_sql(\"bookings\",connection,if_exists=\"replace\", index=False)\n",
    "connection.close()"
   ]
  },
  {
   "cell_type": "code",
   "execution_count": null,
   "id": "5304c585-c72b-453d-8656-9fcb583a4ae7",
   "metadata": {},
   "outputs": [],
   "source": []
  }
 ],
 "metadata": {
  "kernelspec": {
   "display_name": "Python 3 (ipykernel)",
   "language": "python",
   "name": "python3"
  },
  "language_info": {
   "codemirror_mode": {
    "name": "ipython",
    "version": 3
   },
   "file_extension": ".py",
   "mimetype": "text/x-python",
   "name": "python",
   "nbconvert_exporter": "python",
   "pygments_lexer": "ipython3",
   "version": "3.12.7"
  }
 },
 "nbformat": 4,
 "nbformat_minor": 5
}
